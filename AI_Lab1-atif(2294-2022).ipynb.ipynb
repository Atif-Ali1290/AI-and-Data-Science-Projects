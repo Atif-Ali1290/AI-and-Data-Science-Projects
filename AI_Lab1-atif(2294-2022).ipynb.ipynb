{
 "cells": [
  {
   "cell_type": "markdown",
   "metadata": {},
   "source": [
    "## LAB # 01 EXERCISES\n",
    "- 1. Install Jupyter Notebook on your system .\n",
    "- 2. Write a program in python to Print table of user given Number till 20."
   ]
  },
  {
   "cell_type": "code",
   "execution_count": 2,
   "metadata": {},
   "outputs": [
    {
     "name": "stdout",
     "output_type": "stream",
     "text": [
      "4 x 1 = 4\n",
      "4 x 2 = 8\n",
      "4 x 3 = 12\n",
      "4 x 4 = 16\n",
      "4 x 5 = 20\n",
      "4 x 6 = 24\n",
      "4 x 7 = 28\n",
      "4 x 8 = 32\n",
      "4 x 9 = 36\n",
      "4 x 10 = 40\n",
      "4 x 11 = 44\n",
      "4 x 12 = 48\n",
      "4 x 13 = 52\n",
      "4 x 14 = 56\n",
      "4 x 15 = 60\n",
      "4 x 16 = 64\n",
      "4 x 17 = 68\n",
      "4 x 18 = 72\n",
      "4 x 19 = 76\n",
      "4 x 20 = 80\n"
     ]
    }
   ],
   "source": [
    "\n",
    "number = int(input(\"Enter a number to print its table: \"))\n",
    "\n",
    "for i in range(1, 21):\n",
    "    print(f\"{number} x {i} = {number * i}\")\n"
   ]
  },
  {
   "cell_type": "markdown",
   "metadata": {},
   "source": [
    "\n",
    "- 3. Write a program in python to Calculate the cube of all numbers from 1 to a given number\n"
   ]
  },
  {
   "cell_type": "code",
   "execution_count": 8,
   "metadata": {},
   "outputs": [
    {
     "name": "stdout",
     "output_type": "stream",
     "text": [
      "The cube of 1 is 1\n",
      "The cube of 2 is 8\n",
      "The cube of 3 is 27\n",
      "The cube of 4 is 64\n",
      "The cube of 5 is 125\n"
     ]
    }
   ],
   "source": [
    "\n",
    "number = int(input(\"Enter the number up to which you want cubes: \"))\n",
    "\n",
    "for num in range(1, number + 1):\n",
    "    print(f\"The cube of {num} is {num ** 3}\")\n"
   ]
  },
  {
   "cell_type": "markdown",
   "metadata": {},
   "source": [
    "- 4. Write a program in python to calculate Electricity Bill (accept number of unit from user), according to the\n",
    "    following criteria:\n",
    "        - • First 100 unit no charge\n",
    "        - • Next 100 Unit Rs 5 per unit\n",
    "        - • After 200 Units Rs 10 Per unit"
   ]
  },
  {
   "cell_type": "code",
   "execution_count": 13,
   "metadata": {},
   "outputs": [
    {
     "name": "stdout",
     "output_type": "stream",
     "text": [
      "Enter Your Electricity bill's units: 5\n",
      "Your electricity bill is Rs 0\n"
     ]
    }
   ],
   "source": [
    "\n",
    "units = int(input(\"Enter the number of electricity units consumed: \"))\n",
    "\n",
    "bill = 0\n",
    "\n",
    "if units <= 100:\n",
    "    bill = 0\n",
    "elif units <= 200:\n",
    "    bill = (units - 100) * 5\n",
    "else:\n",
    "    bill = (100 * 5) + ((units - 200) * 10)\n",
    "\n",
    "print(f\"Enter Your Electricity bill's units: {units}\")\n",
    "print(f\"Your electricity bill is Rs {bill}\")\n"
   ]
  },
  {
   "cell_type": "markdown",
   "metadata": {},
   "source": []
  }
 ],
 "metadata": {
  "kernelspec": {
   "display_name": "Python 3",
   "language": "python",
   "name": "python3"
  },
  "language_info": {
   "codemirror_mode": {
    "name": "ipython",
    "version": 3
   },
   "file_extension": ".py",
   "mimetype": "text/x-python",
   "name": "python",
   "nbconvert_exporter": "python",
   "pygments_lexer": "ipython3",
   "version": "3.13.0"
  }
 },
 "nbformat": 4,
 "nbformat_minor": 2
}
